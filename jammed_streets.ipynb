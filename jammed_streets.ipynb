{
 "cells": [
  {
   "cell_type": "code",
   "execution_count": 11,
   "metadata": {},
   "outputs": [],
   "source": [
    "import networkx as nx\n",
    "\n",
    "graph = nx.read_gml(\"map_krk_regular.gml\", nx.readwrite.gml.literal_destringizer)"
   ]
  },
  {
   "cell_type": "code",
   "execution_count": 19,
   "metadata": {},
   "outputs": [],
   "source": [
    "import copy\n",
    "\n",
    "graph_cpy = copy.deepcopy(graph)"
   ]
  },
  {
   "cell_type": "code",
   "execution_count": 23,
   "metadata": {
    "scrolled": true
   },
   "outputs": [
    {
     "name": "stderr",
     "output_type": "stream",
     "text": [
      "IOPub data rate exceeded.\n",
      "The notebook server will temporarily stop sending output\n",
      "to the client in order to avoid crashing it.\n",
      "To change this limit, set the config variable\n",
      "`--NotebookApp.iopub_data_rate_limit`.\n",
      "\n",
      "Current values:\n",
      "NotebookApp.iopub_data_rate_limit=1000000.0 (bytes/sec)\n",
      "NotebookApp.rate_limit_window=3.0 (secs)\n",
      "\n"
     ]
    }
   ],
   "source": [
    "names = nx.get_edge_attributes(graph,\"name\")\n",
    "for edge,name in names.items():\n",
    "    if name == \"\":\n",
    "        graph_cpy.remove_edge(edge[0],edge[1])"
   ]
  },
  {
   "cell_type": "code",
   "execution_count": 34,
   "metadata": {},
   "outputs": [
    {
     "name": "stdout",
     "output_type": "stream",
     "text": [
      "[(('695651271', '1234198734'), 318615.5), (('13822581', '1412919037'), 320405.0), (('695651081', '1233263232'), 321598.0), (('268794059', '30372041'), 79015.5), (('2263229296', '268794058'), 53240.0), (('1361389157', '30376964'), 53836.5), (('2272185960', '32063420'), 3054289.0), (('213634444', '2255816294'), 3054885.5), (('1234056333', '966737249'), 5576925.0), (('1769087943', '32063263'), 5577521.5)]\n"
     ]
    }
   ],
   "source": [
    "betweenness = nx.get_edge_attributes(graph_cpy,\"betweenness\")\n",
    "betweenness_list = [(edge, bc) for edge,bc in betweenness.items()]\n",
    "print(betweenness_list[0:10])"
   ]
  },
  {
   "cell_type": "code",
   "execution_count": 35,
   "metadata": {},
   "outputs": [
    {
     "name": "stdout",
     "output_type": "stream",
     "text": [
      "[(('272496171', '316800836'), 50389443.0), (('3398135145', '2255635122'), 50388846.5), (('272496168', '5113663798'), 50388250.0), (('261998605', '1895983414'), 47307053.0), (('3204598262', '603356506'), 47306456.5), (('261998615', '2262216956'), 47305263.5), (('2244507476', '1453057264'), 47208996.0), (('287652900', '730792433'), 47208399.5), (('261998618', '1417621447'), 47065684.5), (('261998625', '593891105'), 47065088.0)]\n"
     ]
    }
   ],
   "source": [
    "betweenness_sorted = sorted(betweenness_list, key=lambda x:x[1], reverse=True)\n",
    "print(betweenness_sorted[0:10])"
   ]
  },
  {
   "cell_type": "code",
   "execution_count": 41,
   "metadata": {},
   "outputs": [
    {
     "name": "stdout",
     "output_type": "stream",
     "text": [
      "[('Powstańców Wielkopolskich', 50389443.0), ('Powstańców Wielkopolskich', 50388846.5), ('Powstańców Wielkopolskich', 50388250.0), ('Wielicka', 47307053.0), ('Wielicka', 47306456.5), ('Wielicka', 47305263.5), ('Wielicka', 47208996.0), ('Wielicka', 47208399.5), ('Wielicka', 47065684.5), ('Wielicka', 47065088.0)]\n"
     ]
    }
   ],
   "source": [
    "betweenness_sorted_named = [(names[edge],bc) for (edge,bc) in betweenness_sorted]\n",
    "print(betweenness_sorted_named[0:10])"
   ]
  },
  {
   "cell_type": "code",
   "execution_count": 47,
   "metadata": {},
   "outputs": [
    {
     "name": "stdout",
     "output_type": "stream",
     "text": [
      "Powstańców Wielkopolskich - 50389443.0\n",
      "Wielicka - 47307053.0\n",
      "Rondo Grzegórzeckie - 37441197.5\n",
      "Rondo Mogilskie - 36964754.0\n",
      "Aleja Juliusza Słowackiego - 35674071.5\n",
      "Aleksandra Lubomirskiego - 31464554.5\n",
      "Wita Stwosza - 31447423.0\n",
      "Aleja Powstania Warszawskiego - 31257146.0\n",
      "Świętego Rafała Kalinowskiego - 30789167.5\n",
      "Most Kotlarski - 26191246.0\n",
      "Gustawa Herlinga-Grudzińskiego - 26190649.5\n",
      "Warszawska - 26186676.0\n",
      "Stanisława Klimeckiego - 25857304.0\n",
      "Kotlarska - 25308438.0\n",
      "Nowohucka - 24939695.5\n",
      "Księdza Józefa Tischnera - 24140894.5\n",
      "Aleja Powstańców Śląskich - 22420517.5\n",
      "Estakada Jacka Kaczmarskiego - 21667974.5\n",
      "Marii Konopnickiej - 20376022.0\n",
      "Bolesława Limanowskiego - 19114562.5\n",
      "Zakopiańska - 18662012.0\n",
      "Krakowska - 16802201.0\n",
      "Aleja Adama Mickiewicza - 16443608.0\n",
      "Północna Obwodnica Wieliczki - 16288742.0\n",
      "Aleja 29 Listopada - 16256277.5\n",
      "Prądnicka - 16064242.5\n",
      "Rondo 308. Dywizjonu - 15728837.0\n",
      "Aleja Pokoju - 15354292.5\n",
      "Aleja Zygmunta Krasińskiego - 15134948.0\n",
      "Leonida Teligi - 14732908.0\n",
      "Rondo Czyżyńskie - 14362379.5\n",
      "Stanisława Stojałowskiego - 14032204.5\n",
      "Jana Brożka - 13891885.5\n",
      "Malborska - 13557533.0\n",
      "Mogilska - 13527012.0\n",
      "Na Zjeździe - 13455226.0\n",
      "Józefa Dietla - 12447942.0\n",
      "Most Grunwaldzki - 12444959.5\n",
      "Mieczysławy Ćwiklińskiej - 12344885.0\n",
      "Cechowa - 11971972.5\n",
      "Josepha Conrada - 11926508.0\n",
      "Podgórska - 11883117.5\n",
      "Grzegórzecka - 11741917.5\n",
      "Podgórki - 11608258.0\n",
      "Generała Henryka Kamieńskiego - 11538950.0\n",
      "Jerzego Kuryłowicza - 11032266.5\n",
      "Bieńczycka - 10666956.0\n",
      "Wielopole - 10614576.0\n",
      "Sebastiana Klonowica - 10387711.5\n",
      "Beskidzka - 10355406.0\n"
     ]
    }
   ],
   "source": [
    "betweenness_sorted_named_unique = []\n",
    "street_names = set()\n",
    "for (street_name,bc) in betweenness_sorted_named:\n",
    "    if street_name not in street_names:\n",
    "        betweenness_sorted_named_unique.append((street_name,bc))\n",
    "        street_names.add(street_name)\n",
    "\n",
    "for (street_name,bc) in betweenness_sorted_named_unique[0:50]:\n",
    "    print(\"{} - {}\".format(street_name, bc))\n"
   ]
  },
  {
   "cell_type": "code",
   "execution_count": null,
   "metadata": {},
   "outputs": [],
   "source": []
  },
  {
   "cell_type": "code",
   "execution_count": null,
   "metadata": {},
   "outputs": [],
   "source": []
  },
  {
   "cell_type": "code",
   "execution_count": null,
   "metadata": {},
   "outputs": [],
   "source": []
  },
  {
   "cell_type": "code",
   "execution_count": null,
   "metadata": {},
   "outputs": [],
   "source": []
  },
  {
   "cell_type": "code",
   "execution_count": null,
   "metadata": {},
   "outputs": [],
   "source": []
  },
  {
   "cell_type": "code",
   "execution_count": null,
   "metadata": {},
   "outputs": [],
   "source": []
  },
  {
   "cell_type": "code",
   "execution_count": null,
   "metadata": {},
   "outputs": [],
   "source": []
  },
  {
   "cell_type": "code",
   "execution_count": null,
   "metadata": {},
   "outputs": [],
   "source": []
  }
 ],
 "metadata": {
  "kernelspec": {
   "display_name": "Python 3",
   "language": "python",
   "name": "python3"
  },
  "language_info": {
   "codemirror_mode": {
    "name": "ipython",
    "version": 3
   },
   "file_extension": ".py",
   "mimetype": "text/x-python",
   "name": "python",
   "nbconvert_exporter": "python",
   "pygments_lexer": "ipython3",
   "version": "3.6.0b4"
  }
 },
 "nbformat": 4,
 "nbformat_minor": 2
}
